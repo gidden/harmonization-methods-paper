{
 "cells": [
  {
   "cell_type": "code",
   "execution_count": 24,
   "metadata": {
    "collapsed": true
   },
   "outputs": [],
   "source": [
    "import sys\n",
    "\n",
    "import numpy as np\n",
    "import pandas as pd\n",
    "import seaborn as sns\n",
    "\n",
    "import matplotlib.pyplot as plt\n",
    "\n",
    "%matplotlib inline"
   ]
  },
  {
   "cell_type": "code",
   "execution_count": 25,
   "metadata": {
    "collapsed": true
   },
   "outputs": [],
   "source": [
    "sys.path.append('../../../iiasa/ceds_harmonization_analysis/')"
   ]
  },
  {
   "cell_type": "code",
   "execution_count": 26,
   "metadata": {
    "collapsed": false
   },
   "outputs": [],
   "source": [
    "import utils"
   ]
  },
  {
   "cell_type": "code",
   "execution_count": 27,
   "metadata": {
    "collapsed": false
   },
   "outputs": [],
   "source": [
    "df = pd.read_csv('results.csv')"
   ]
  },
  {
   "cell_type": "code",
   "execution_count": 31,
   "metadata": {
    "collapsed": true
   },
   "outputs": [],
   "source": [
    "utils.plot_lines?"
   ]
  },
  {
   "cell_type": "code",
   "execution_count": 33,
   "metadata": {
    "collapsed": true
   },
   "outputs": [],
   "source": [
    "df.loc[df.scenario.str.contains('override'), 'model'] = 'foo'"
   ]
  },
  {
   "cell_type": "code",
   "execution_count": 34,
   "metadata": {
    "collapsed": false
   },
   "outputs": [
    {
     "data": {
      "text/plain": [
       "<matplotlib.axes._subplots.AxesSubplot at 0x7f2f859b9210>"
      ]
     },
     "execution_count": 34,
     "metadata": {},
     "output_type": "execute_result"
    },
    {
     "data": {
      "image/png": "[encoded data removed]",
      "text/plain": [
       "<matplotlib.figure.Figure at 0x7f2fc0436e50>"
      ]
     },
     "metadata": {},
     "output_type": "display_data"
    }
   ],
   "source": [
    "utils.plot_lines(df, gas='CO', sector='Industrial Sector')"
   ]
  },
  {
   "cell_type": "code",
   "execution_count": 35,
   "metadata": {
    "collapsed": false
   },
   "outputs": [
    {
     "data": {
      "text/html": [
       "<div>\n",
       "<table border=\"1\" class=\"dataframe\">\n",
       "  <thead>\n",
       "    <tr style=\"text-align: right;\">\n",
       "      <th></th>\n",
       "      <th>region</th>\n",
       "      <th>model</th>\n",
       "      <th>scenario</th>\n",
       "      <th>ind</th>\n",
       "      <th>year</th>\n",
       "      <th>value</th>\n",
       "      <th>ssp</th>\n",
       "      <th>kind</th>\n",
       "    </tr>\n",
       "  </thead>\n",
       "  <tbody>\n",
       "    <tr>\n",
       "      <th>0</th>\n",
       "      <td>AFR</td>\n",
       "      <td>MESSAGE-GLOBIOM</td>\n",
       "      <td>SSP2-45-SPA2-V25-no</td>\n",
       "      <td>CEDS+|9+ Sectors|Emissions|BC|Agricultural Was...</td>\n",
       "      <td>2015</td>\n",
       "      <td>0.056201</td>\n",
       "      <td>SSP2</td>\n",
       "      <td>45</td>\n",
       "    </tr>\n",
       "    <tr>\n",
       "      <th>1</th>\n",
       "      <td>AFR</td>\n",
       "      <td>MESSAGE-GLOBIOM</td>\n",
       "      <td>SSP2-45-SPA2-V25-no</td>\n",
       "      <td>CEDS+|9+ Sectors|Emissions|BC|Energy Sector|Ha...</td>\n",
       "      <td>2015</td>\n",
       "      <td>0.033676</td>\n",
       "      <td>SSP2</td>\n",
       "      <td>45</td>\n",
       "    </tr>\n",
       "    <tr>\n",
       "      <th>2</th>\n",
       "      <td>AFR</td>\n",
       "      <td>MESSAGE-GLOBIOM</td>\n",
       "      <td>SSP2-45-SPA2-V25-no</td>\n",
       "      <td>CEDS+|9+ Sectors|Emissions|BC|Forest Burning|H...</td>\n",
       "      <td>2015</td>\n",
       "      <td>0.056316</td>\n",
       "      <td>SSP2</td>\n",
       "      <td>45</td>\n",
       "    </tr>\n",
       "    <tr>\n",
       "      <th>3</th>\n",
       "      <td>AFR</td>\n",
       "      <td>MESSAGE-GLOBIOM</td>\n",
       "      <td>SSP2-45-SPA2-V25-no</td>\n",
       "      <td>CEDS+|9+ Sectors|Emissions|BC|Grassland Burnin...</td>\n",
       "      <td>2015</td>\n",
       "      <td>0.701252</td>\n",
       "      <td>SSP2</td>\n",
       "      <td>45</td>\n",
       "    </tr>\n",
       "    <tr>\n",
       "      <th>4</th>\n",
       "      <td>AFR</td>\n",
       "      <td>MESSAGE-GLOBIOM</td>\n",
       "      <td>SSP2-45-SPA2-V25-no</td>\n",
       "      <td>CEDS+|9+ Sectors|Emissions|BC|Harmonized-DB</td>\n",
       "      <td>2015</td>\n",
       "      <td>2.047021</td>\n",
       "      <td>SSP2</td>\n",
       "      <td>45</td>\n",
       "    </tr>\n",
       "  </tbody>\n",
       "</table>\n",
       "</div>"
      ],
      "text/plain": [
       "  region            model             scenario  \\\n",
       "0    AFR  MESSAGE-GLOBIOM  SSP2-45-SPA2-V25-no   \n",
       "1    AFR  MESSAGE-GLOBIOM  SSP2-45-SPA2-V25-no   \n",
       "2    AFR  MESSAGE-GLOBIOM  SSP2-45-SPA2-V25-no   \n",
       "3    AFR  MESSAGE-GLOBIOM  SSP2-45-SPA2-V25-no   \n",
       "4    AFR  MESSAGE-GLOBIOM  SSP2-45-SPA2-V25-no   \n",
       "\n",
       "                                                 ind  year     value   ssp  \\\n",
       "0  CEDS+|9+ Sectors|Emissions|BC|Agricultural Was...  2015  0.056201  SSP2   \n",
       "1  CEDS+|9+ Sectors|Emissions|BC|Energy Sector|Ha...  2015  0.033676  SSP2   \n",
       "2  CEDS+|9+ Sectors|Emissions|BC|Forest Burning|H...  2015  0.056316  SSP2   \n",
       "3  CEDS+|9+ Sectors|Emissions|BC|Grassland Burnin...  2015  0.701252  SSP2   \n",
       "4        CEDS+|9+ Sectors|Emissions|BC|Harmonized-DB  2015  2.047021  SSP2   \n",
       "\n",
       "  kind  \n",
       "0   45  \n",
       "1   45  \n",
       "2   45  \n",
       "3   45  \n",
       "4   45  "
      ]
     },
     "execution_count": 35,
     "metadata": {},
     "output_type": "execute_result"
    }
   ],
   "source": [
    "df.head()"
   ]
  },
  {
   "cell_type": "code",
   "execution_count": 21,
   "metadata": {
    "collapsed": true
   },
   "outputs": [],
   "source": [
    "x = pd.read_csv('results.csv')"
   ]
  },
  {
   "cell_type": "code",
   "execution_count": 23,
   "metadata": {
    "collapsed": false
   },
   "outputs": [
    {
     "data": {
      "text/html": [
       "<div>\n",
       "<table border=\"1\" class=\"dataframe\">\n",
       "  <thead>\n",
       "    <tr style=\"text-align: right;\">\n",
       "      <th></th>\n",
       "      <th>region</th>\n",
       "      <th>model</th>\n",
       "      <th>scenario</th>\n",
       "      <th>ind</th>\n",
       "      <th>year</th>\n",
       "      <th>value</th>\n",
       "      <th>ssp</th>\n",
       "      <th>kind</th>\n",
       "    </tr>\n",
       "  </thead>\n",
       "  <tbody>\n",
       "    <tr>\n",
       "      <th>296329</th>\n",
       "      <td>World</td>\n",
       "      <td>History</td>\n",
       "      <td>CEDS</td>\n",
       "      <td>CEDS+|9+ Sectors|Emissions|VOC|Waste|Unharmonized</td>\n",
       "      <td>2011</td>\n",
       "      <td>7.081729</td>\n",
       "      <td>CEDS</td>\n",
       "      <td>History</td>\n",
       "    </tr>\n",
       "    <tr>\n",
       "      <th>296330</th>\n",
       "      <td>World</td>\n",
       "      <td>History</td>\n",
       "      <td>CEDS</td>\n",
       "      <td>CEDS+|9+ Sectors|Emissions|VOC|Waste|Unharmonized</td>\n",
       "      <td>2012</td>\n",
       "      <td>7.153125</td>\n",
       "      <td>CEDS</td>\n",
       "      <td>History</td>\n",
       "    </tr>\n",
       "    <tr>\n",
       "      <th>296331</th>\n",
       "      <td>World</td>\n",
       "      <td>History</td>\n",
       "      <td>CEDS</td>\n",
       "      <td>CEDS+|9+ Sectors|Emissions|VOC|Waste|Unharmonized</td>\n",
       "      <td>2013</td>\n",
       "      <td>7.226148</td>\n",
       "      <td>CEDS</td>\n",
       "      <td>History</td>\n",
       "    </tr>\n",
       "    <tr>\n",
       "      <th>296332</th>\n",
       "      <td>World</td>\n",
       "      <td>History</td>\n",
       "      <td>CEDS</td>\n",
       "      <td>CEDS+|9+ Sectors|Emissions|VOC|Waste|Unharmonized</td>\n",
       "      <td>2014</td>\n",
       "      <td>7.297804</td>\n",
       "      <td>CEDS</td>\n",
       "      <td>History</td>\n",
       "    </tr>\n",
       "    <tr>\n",
       "      <th>296333</th>\n",
       "      <td>World</td>\n",
       "      <td>History</td>\n",
       "      <td>CEDS</td>\n",
       "      <td>CEDS+|9+ Sectors|Emissions|VOC|Waste|Unharmonized</td>\n",
       "      <td>2015</td>\n",
       "      <td>7.316984</td>\n",
       "      <td>CEDS</td>\n",
       "      <td>History</td>\n",
       "    </tr>\n",
       "  </tbody>\n",
       "</table>\n",
       "</div>"
      ],
      "text/plain": [
       "       region    model scenario  \\\n",
       "296329  World  History     CEDS   \n",
       "296330  World  History     CEDS   \n",
       "296331  World  History     CEDS   \n",
       "296332  World  History     CEDS   \n",
       "296333  World  History     CEDS   \n",
       "\n",
       "                                                      ind  year     value  \\\n",
       "296329  CEDS+|9+ Sectors|Emissions|VOC|Waste|Unharmonized  2011  7.081729   \n",
       "296330  CEDS+|9+ Sectors|Emissions|VOC|Waste|Unharmonized  2012  7.153125   \n",
       "296331  CEDS+|9+ Sectors|Emissions|VOC|Waste|Unharmonized  2013  7.226148   \n",
       "296332  CEDS+|9+ Sectors|Emissions|VOC|Waste|Unharmonized  2014  7.297804   \n",
       "296333  CEDS+|9+ Sectors|Emissions|VOC|Waste|Unharmonized  2015  7.316984   \n",
       "\n",
       "         ssp     kind  \n",
       "296329  CEDS  History  \n",
       "296330  CEDS  History  \n",
       "296331  CEDS  History  \n",
       "296332  CEDS  History  \n",
       "296333  CEDS  History  "
      ]
     },
     "execution_count": 23,
     "metadata": {},
     "output_type": "execute_result"
    }
   ],
   "source": [
    "x.tail()"
   ]
  },
  {
   "cell_type": "code",
   "execution_count": null,
   "metadata": {
    "collapsed": true
   },
   "outputs": [],
   "source": []
  }
 ],
 "metadata": {
  "kernelspec": {
   "display_name": "Python 2",
   "language": "python",
   "name": "python2"
  },
  "language_info": {
   "codemirror_mode": {
    "name": "ipython",
    "version": 2
   },
   "file_extension": ".py",
   "mimetype": "text/x-python",
   "name": "python",
   "nbconvert_exporter": "python",
   "pygments_lexer": "ipython2",
   "version": "2.7.12"
  }
 },
 "nbformat": 4,
 "nbformat_minor": 1
}
